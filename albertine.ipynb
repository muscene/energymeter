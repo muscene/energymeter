{
 "cells": [
  {
   "cell_type": "code",
   "execution_count": 1,
   "metadata": {
    "_cell_guid": "b1076dfc-b9ad-4769-8c92-a6c4dae69d19",
    "_uuid": "8f2839f25d086af736a60e9eeb907d3b93b6e0e5",
    "execution": {
     "iopub.execute_input": "2025-01-16T12:16:06.433095Z",
     "iopub.status.busy": "2025-01-16T12:16:06.432853Z",
     "iopub.status.idle": "2025-01-16T12:16:06.816744Z",
     "shell.execute_reply": "2025-01-16T12:16:06.815652Z",
     "shell.execute_reply.started": "2025-01-16T12:16:06.433073Z"
    }
   },
   "outputs": [
    {
     "ename": "ValueError",
     "evalue": "numpy.dtype size changed, may indicate binary incompatibility. Expected 96 from C header, got 88 from PyObject",
     "output_type": "error",
     "traceback": [
      "\u001b[1;31m---------------------------------------------------------------------------\u001b[0m",
      "\u001b[1;31mValueError\u001b[0m                                Traceback (most recent call last)",
      "Cell \u001b[1;32mIn[1], line 6\u001b[0m\n\u001b[0;32m      1\u001b[0m \u001b[38;5;66;03m# This Python 3 environment comes with many helpful analytics libraries installed\u001b[39;00m\n\u001b[0;32m      2\u001b[0m \u001b[38;5;66;03m# It is defined by the kaggle/python Docker image: https://github.com/kaggle/docker-python\u001b[39;00m\n\u001b[0;32m      3\u001b[0m \u001b[38;5;66;03m# For example, here's several helpful packages to load\u001b[39;00m\n\u001b[0;32m      5\u001b[0m \u001b[38;5;28;01mimport\u001b[39;00m \u001b[38;5;21;01mnumpy\u001b[39;00m \u001b[38;5;28;01mas\u001b[39;00m \u001b[38;5;21;01mnp\u001b[39;00m \u001b[38;5;66;03m# linear algebra\u001b[39;00m\n\u001b[1;32m----> 6\u001b[0m \u001b[38;5;28;01mimport\u001b[39;00m \u001b[38;5;21;01mpandas\u001b[39;00m \u001b[38;5;28;01mas\u001b[39;00m \u001b[38;5;21;01mpd\u001b[39;00m \u001b[38;5;66;03m# data processing, CSV file I/O (e.g. pd.read_csv)\u001b[39;00m\n\u001b[0;32m      8\u001b[0m \u001b[38;5;66;03m# Input data files are available in the read-only \"../input/\" directory\u001b[39;00m\n\u001b[0;32m      9\u001b[0m \u001b[38;5;66;03m# For example, running this (by clicking run or pressing Shift+Enter) will list all files under the input directory\u001b[39;00m\n\u001b[0;32m     11\u001b[0m \u001b[38;5;28;01mimport\u001b[39;00m \u001b[38;5;21;01mos\u001b[39;00m\n",
      "File \u001b[1;32mC:\\ProgramData\\anaconda3\\Lib\\site-packages\\pandas\\__init__.py:22\u001b[0m\n\u001b[0;32m     19\u001b[0m \u001b[38;5;28;01mdel\u001b[39;00m _hard_dependencies, _dependency, _missing_dependencies\n\u001b[0;32m     21\u001b[0m \u001b[38;5;66;03m# numpy compat\u001b[39;00m\n\u001b[1;32m---> 22\u001b[0m \u001b[38;5;28;01mfrom\u001b[39;00m \u001b[38;5;21;01mpandas\u001b[39;00m\u001b[38;5;21;01m.\u001b[39;00m\u001b[38;5;21;01mcompat\u001b[39;00m \u001b[38;5;28;01mimport\u001b[39;00m is_numpy_dev \u001b[38;5;28;01mas\u001b[39;00m _is_numpy_dev  \u001b[38;5;66;03m# pyright: ignore # noqa:F401\u001b[39;00m\n\u001b[0;32m     24\u001b[0m \u001b[38;5;28;01mtry\u001b[39;00m:\n\u001b[0;32m     25\u001b[0m     \u001b[38;5;28;01mfrom\u001b[39;00m \u001b[38;5;21;01mpandas\u001b[39;00m\u001b[38;5;21;01m.\u001b[39;00m\u001b[38;5;21;01m_libs\u001b[39;00m \u001b[38;5;28;01mimport\u001b[39;00m hashtable \u001b[38;5;28;01mas\u001b[39;00m _hashtable, lib \u001b[38;5;28;01mas\u001b[39;00m _lib, tslib \u001b[38;5;28;01mas\u001b[39;00m _tslib\n",
      "File \u001b[1;32mC:\\ProgramData\\anaconda3\\Lib\\site-packages\\pandas\\compat\\__init__.py:25\u001b[0m\n\u001b[0;32m     17\u001b[0m \u001b[38;5;28;01mfrom\u001b[39;00m \u001b[38;5;21;01mpandas\u001b[39;00m\u001b[38;5;21;01m.\u001b[39;00m\u001b[38;5;21;01mcompat\u001b[39;00m\u001b[38;5;21;01m.\u001b[39;00m\u001b[38;5;21;01m_constants\u001b[39;00m \u001b[38;5;28;01mimport\u001b[39;00m (\n\u001b[0;32m     18\u001b[0m     IS64,\n\u001b[0;32m     19\u001b[0m     PY39,\n\u001b[1;32m   (...)\u001b[0m\n\u001b[0;32m     22\u001b[0m     PYPY,\n\u001b[0;32m     23\u001b[0m )\n\u001b[0;32m     24\u001b[0m \u001b[38;5;28;01mimport\u001b[39;00m \u001b[38;5;21;01mpandas\u001b[39;00m\u001b[38;5;21;01m.\u001b[39;00m\u001b[38;5;21;01mcompat\u001b[39;00m\u001b[38;5;21;01m.\u001b[39;00m\u001b[38;5;21;01mcompressors\u001b[39;00m\n\u001b[1;32m---> 25\u001b[0m \u001b[38;5;28;01mfrom\u001b[39;00m \u001b[38;5;21;01mpandas\u001b[39;00m\u001b[38;5;21;01m.\u001b[39;00m\u001b[38;5;21;01mcompat\u001b[39;00m\u001b[38;5;21;01m.\u001b[39;00m\u001b[38;5;21;01mnumpy\u001b[39;00m \u001b[38;5;28;01mimport\u001b[39;00m (\n\u001b[0;32m     26\u001b[0m     is_numpy_dev,\n\u001b[0;32m     27\u001b[0m     np_version_under1p21,\n\u001b[0;32m     28\u001b[0m )\n\u001b[0;32m     29\u001b[0m \u001b[38;5;28;01mfrom\u001b[39;00m \u001b[38;5;21;01mpandas\u001b[39;00m\u001b[38;5;21;01m.\u001b[39;00m\u001b[38;5;21;01mcompat\u001b[39;00m\u001b[38;5;21;01m.\u001b[39;00m\u001b[38;5;21;01mpyarrow\u001b[39;00m \u001b[38;5;28;01mimport\u001b[39;00m (\n\u001b[0;32m     30\u001b[0m     pa_version_under7p0,\n\u001b[0;32m     31\u001b[0m     pa_version_under8p0,\n\u001b[0;32m     32\u001b[0m     pa_version_under9p0,\n\u001b[0;32m     33\u001b[0m     pa_version_under11p0,\n\u001b[0;32m     34\u001b[0m )\n\u001b[0;32m     37\u001b[0m \u001b[38;5;28;01mdef\u001b[39;00m \u001b[38;5;21mset_function_name\u001b[39m(f: F, name: \u001b[38;5;28mstr\u001b[39m, \u001b[38;5;28mcls\u001b[39m) \u001b[38;5;241m-\u001b[39m\u001b[38;5;241m>\u001b[39m F:\n",
      "File \u001b[1;32mC:\\ProgramData\\anaconda3\\Lib\\site-packages\\pandas\\compat\\numpy\\__init__.py:4\u001b[0m\n\u001b[0;32m      1\u001b[0m \u001b[38;5;124;03m\"\"\" support numpy compatibility across versions \"\"\"\u001b[39;00m\n\u001b[0;32m      2\u001b[0m \u001b[38;5;28;01mimport\u001b[39;00m \u001b[38;5;21;01mnumpy\u001b[39;00m \u001b[38;5;28;01mas\u001b[39;00m \u001b[38;5;21;01mnp\u001b[39;00m\n\u001b[1;32m----> 4\u001b[0m \u001b[38;5;28;01mfrom\u001b[39;00m \u001b[38;5;21;01mpandas\u001b[39;00m\u001b[38;5;21;01m.\u001b[39;00m\u001b[38;5;21;01mutil\u001b[39;00m\u001b[38;5;21;01m.\u001b[39;00m\u001b[38;5;21;01mversion\u001b[39;00m \u001b[38;5;28;01mimport\u001b[39;00m Version\n\u001b[0;32m      6\u001b[0m \u001b[38;5;66;03m# numpy versioning\u001b[39;00m\n\u001b[0;32m      7\u001b[0m _np_version \u001b[38;5;241m=\u001b[39m np\u001b[38;5;241m.\u001b[39m__version__\n",
      "File \u001b[1;32mC:\\ProgramData\\anaconda3\\Lib\\site-packages\\pandas\\util\\__init__.py:2\u001b[0m\n\u001b[0;32m      1\u001b[0m \u001b[38;5;66;03m# pyright: reportUnusedImport = false\u001b[39;00m\n\u001b[1;32m----> 2\u001b[0m \u001b[38;5;28;01mfrom\u001b[39;00m \u001b[38;5;21;01mpandas\u001b[39;00m\u001b[38;5;21;01m.\u001b[39;00m\u001b[38;5;21;01mutil\u001b[39;00m\u001b[38;5;21;01m.\u001b[39;00m\u001b[38;5;21;01m_decorators\u001b[39;00m \u001b[38;5;28;01mimport\u001b[39;00m (  \u001b[38;5;66;03m# noqa:F401\u001b[39;00m\n\u001b[0;32m      3\u001b[0m     Appender,\n\u001b[0;32m      4\u001b[0m     Substitution,\n\u001b[0;32m      5\u001b[0m     cache_readonly,\n\u001b[0;32m      6\u001b[0m )\n\u001b[0;32m      8\u001b[0m \u001b[38;5;28;01mfrom\u001b[39;00m \u001b[38;5;21;01mpandas\u001b[39;00m\u001b[38;5;21;01m.\u001b[39;00m\u001b[38;5;21;01mcore\u001b[39;00m\u001b[38;5;21;01m.\u001b[39;00m\u001b[38;5;21;01mutil\u001b[39;00m\u001b[38;5;21;01m.\u001b[39;00m\u001b[38;5;21;01mhashing\u001b[39;00m \u001b[38;5;28;01mimport\u001b[39;00m (  \u001b[38;5;66;03m# noqa:F401\u001b[39;00m\n\u001b[0;32m      9\u001b[0m     hash_array,\n\u001b[0;32m     10\u001b[0m     hash_pandas_object,\n\u001b[0;32m     11\u001b[0m )\n",
      "File \u001b[1;32mC:\\ProgramData\\anaconda3\\Lib\\site-packages\\pandas\\util\\_decorators.py:14\u001b[0m\n\u001b[0;32m      6\u001b[0m \u001b[38;5;28;01mfrom\u001b[39;00m \u001b[38;5;21;01mtyping\u001b[39;00m \u001b[38;5;28;01mimport\u001b[39;00m (\n\u001b[0;32m      7\u001b[0m     Any,\n\u001b[0;32m      8\u001b[0m     Callable,\n\u001b[0;32m      9\u001b[0m     Mapping,\n\u001b[0;32m     10\u001b[0m     cast,\n\u001b[0;32m     11\u001b[0m )\n\u001b[0;32m     12\u001b[0m \u001b[38;5;28;01mimport\u001b[39;00m \u001b[38;5;21;01mwarnings\u001b[39;00m\n\u001b[1;32m---> 14\u001b[0m \u001b[38;5;28;01mfrom\u001b[39;00m \u001b[38;5;21;01mpandas\u001b[39;00m\u001b[38;5;21;01m.\u001b[39;00m\u001b[38;5;21;01m_libs\u001b[39;00m\u001b[38;5;21;01m.\u001b[39;00m\u001b[38;5;21;01mproperties\u001b[39;00m \u001b[38;5;28;01mimport\u001b[39;00m cache_readonly\n\u001b[0;32m     15\u001b[0m \u001b[38;5;28;01mfrom\u001b[39;00m \u001b[38;5;21;01mpandas\u001b[39;00m\u001b[38;5;21;01m.\u001b[39;00m\u001b[38;5;21;01m_typing\u001b[39;00m \u001b[38;5;28;01mimport\u001b[39;00m (\n\u001b[0;32m     16\u001b[0m     F,\n\u001b[0;32m     17\u001b[0m     T,\n\u001b[0;32m     18\u001b[0m )\n\u001b[0;32m     19\u001b[0m \u001b[38;5;28;01mfrom\u001b[39;00m \u001b[38;5;21;01mpandas\u001b[39;00m\u001b[38;5;21;01m.\u001b[39;00m\u001b[38;5;21;01mutil\u001b[39;00m\u001b[38;5;21;01m.\u001b[39;00m\u001b[38;5;21;01m_exceptions\u001b[39;00m \u001b[38;5;28;01mimport\u001b[39;00m find_stack_level\n",
      "File \u001b[1;32mC:\\ProgramData\\anaconda3\\Lib\\site-packages\\pandas\\_libs\\__init__.py:13\u001b[0m\n\u001b[0;32m      1\u001b[0m __all__ \u001b[38;5;241m=\u001b[39m [\n\u001b[0;32m      2\u001b[0m     \u001b[38;5;124m\"\u001b[39m\u001b[38;5;124mNaT\u001b[39m\u001b[38;5;124m\"\u001b[39m,\n\u001b[0;32m      3\u001b[0m     \u001b[38;5;124m\"\u001b[39m\u001b[38;5;124mNaTType\u001b[39m\u001b[38;5;124m\"\u001b[39m,\n\u001b[1;32m   (...)\u001b[0m\n\u001b[0;32m      9\u001b[0m     \u001b[38;5;124m\"\u001b[39m\u001b[38;5;124mInterval\u001b[39m\u001b[38;5;124m\"\u001b[39m,\n\u001b[0;32m     10\u001b[0m ]\n\u001b[1;32m---> 13\u001b[0m \u001b[38;5;28;01mfrom\u001b[39;00m \u001b[38;5;21;01mpandas\u001b[39;00m\u001b[38;5;21;01m.\u001b[39;00m\u001b[38;5;21;01m_libs\u001b[39;00m\u001b[38;5;21;01m.\u001b[39;00m\u001b[38;5;21;01minterval\u001b[39;00m \u001b[38;5;28;01mimport\u001b[39;00m Interval\n\u001b[0;32m     14\u001b[0m \u001b[38;5;28;01mfrom\u001b[39;00m \u001b[38;5;21;01mpandas\u001b[39;00m\u001b[38;5;21;01m.\u001b[39;00m\u001b[38;5;21;01m_libs\u001b[39;00m\u001b[38;5;21;01m.\u001b[39;00m\u001b[38;5;21;01mtslibs\u001b[39;00m \u001b[38;5;28;01mimport\u001b[39;00m (\n\u001b[0;32m     15\u001b[0m     NaT,\n\u001b[0;32m     16\u001b[0m     NaTType,\n\u001b[1;32m   (...)\u001b[0m\n\u001b[0;32m     21\u001b[0m     iNaT,\n\u001b[0;32m     22\u001b[0m )\n",
      "File \u001b[1;32mC:\\ProgramData\\anaconda3\\Lib\\site-packages\\pandas\\_libs\\interval.pyx:1\u001b[0m, in \u001b[0;36minit pandas._libs.interval\u001b[1;34m()\u001b[0m\n",
      "\u001b[1;31mValueError\u001b[0m: numpy.dtype size changed, may indicate binary incompatibility. Expected 96 from C header, got 88 from PyObject"
     ]
    }
   ],
   "source": [
    "# This Python 3 environment comes with many helpful analytics libraries installed\n",
    "# It is defined by the kaggle/python Docker image: https://github.com/kaggle/docker-python\n",
    "# For example, here's several helpful packages to load\n",
    "\n",
    "import numpy as np # linear algebra\n",
    "import pandas as pd # data processing, CSV file I/O (e.g. pd.read_csv)\n",
    "\n",
    "# Input data files are available in the read-only \"../input/\" directory\n",
    "# For example, running this (by clicking run or pressing Shift+Enter) will list all files under the input directory\n",
    "\n",
    "import os\n",
    "for dirname, _, filenames in os.walk('/kaggle/input'):\n",
    "    for filename in filenames:\n",
    "        print(os.path.join(dirname, filename))\n",
    "\n",
    "# You can write up to 20GB to the current directory (/kaggle/working/) that gets preserved as output when you create a version using \"Save & Run All\" \n",
    "# You can also write temporary files to /kaggle/temp/, but they won't be saved outside of the current session"
   ]
  },
  {
   "cell_type": "code",
   "execution_count": null,
   "metadata": {
    "execution": {
     "iopub.execute_input": "2025-01-16T12:16:06.818850Z",
     "iopub.status.busy": "2025-01-16T12:16:06.818260Z",
     "iopub.status.idle": "2025-01-16T12:16:06.824404Z",
     "shell.execute_reply": "2025-01-16T12:16:06.823050Z",
     "shell.execute_reply.started": "2025-01-16T12:16:06.818822Z"
    }
   },
   "outputs": [
    {
     "ename": "",
     "evalue": "",
     "output_type": "error",
     "traceback": [
      "\u001b[1;31mRunning cells with 'Python 3.11.2' requires the ipykernel package.\n",
      "\u001b[1;31mRun the following command to install 'ipykernel' into the Python environment. \n",
      "\u001b[1;31mCommand: '/usr/bin/python3 -m pip install ipykernel -U --user --force-reinstall'"
     ]
    }
   ],
   "source": [
    "import pandas as pd\n",
    "import numpy as np\n",
    "from datetime import datetime, timedelta\n",
    "\n",
    "# Function to determine Rwanda's seasons\n",
    "def get_rwanda_season(date):\n",
    "    month = date.month\n",
    "    if month in [3, 4, 5]:\n",
    "        return 'Long Rainy Season'\n",
    "    elif month in [10, 11, 12]:\n",
    "        return 'Short Rainy Season'\n",
    "    elif month in [6, 7, 8, 9]:\n",
    "        return 'Dry Season'\n",
    "    else:\n",
    "        return 'Dry Season'"
   ]
  },
  {
   "cell_type": "code",
   "execution_count": null,
   "metadata": {
    "execution": {
     "iopub.execute_input": "2025-01-16T12:16:06.826724Z",
     "iopub.status.busy": "2025-01-16T12:16:06.826352Z",
     "iopub.status.idle": "2025-01-16T12:16:06.851162Z",
     "shell.execute_reply": "2025-01-16T12:16:06.849987Z",
     "shell.execute_reply.started": "2025-01-16T12:16:06.826697Z"
    }
   },
   "outputs": [],
   "source": [
    "\n",
    "# Generate date range for 2017 to 2024\n",
    "start_date = datetime(2017, 1, 1)\n",
    "end_date = datetime(2024, 12, 31)\n",
    "date_range = pd.date_range(start=start_date, end=end_date, freq='H')\n",
    "\n"
   ]
  },
  {
   "cell_type": "code",
   "execution_count": null,
   "metadata": {},
   "outputs": [],
   "source": [
    "pip uninstall pandas\n"
   ]
  },
  {
   "cell_type": "code",
   "execution_count": null,
   "metadata": {
    "execution": {
     "iopub.execute_input": "2025-01-16T12:16:06.853480Z",
     "iopub.status.busy": "2025-01-16T12:16:06.853076Z",
     "iopub.status.idle": "2025-01-16T12:16:07.154539Z",
     "shell.execute_reply": "2025-01-16T12:16:07.153233Z",
     "shell.execute_reply.started": "2025-01-16T12:16:06.853439Z"
    }
   },
   "outputs": [],
   "source": [
    "# Simulate data\n",
    "np.random.seed(42)\n",
    "energy_consumption = np.random.uniform(5, 30, len(date_range))  # Energy consumption (kWh)\n",
    "appliance_usage = np.random.uniform(2, 15, len(date_range))  # Appliance usage (kWh)\n",
    "cost_per_kWh = np.random.choice([0.10, 0.12, 0.15], len(date_range))  # Cost per kWh (RWF)\n",
    "weather_temp = np.random.uniform(10, 30, len(date_range))  # Temperature (°C)\n",
    "season = [get_rwanda_season(date) for date in date_range]\n",
    "weekday_weekend = ['Weekday' if date.weekday() < 5 else 'Weekend' for date in date_range]\n",
    "special_event = np.random.choice([0, 1], len(date_range))  # Special events indicator\n",
    "\n"
   ]
  },
  {
   "cell_type": "code",
   "execution_count": null,
   "metadata": {
    "execution": {
     "iopub.execute_input": "2025-01-16T12:16:07.155935Z",
     "iopub.status.busy": "2025-01-16T12:16:07.155645Z",
     "iopub.status.idle": "2025-01-16T12:16:07.161129Z",
     "shell.execute_reply": "2025-01-16T12:16:07.159981Z",
     "shell.execute_reply.started": "2025-01-16T12:16:07.155911Z"
    }
   },
   "outputs": [],
   "source": [
    "# Calculate predicted energy cost (RWF)\n",
    "predicted_energy_cost = (energy_consumption * cost_per_kWh).round(2)\n",
    "\n"
   ]
  },
  {
   "cell_type": "code",
   "execution_count": null,
   "metadata": {
    "execution": {
     "iopub.execute_input": "2025-01-16T12:16:07.162993Z",
     "iopub.status.busy": "2025-01-16T12:16:07.162554Z",
     "iopub.status.idle": "2025-01-16T12:16:07.217254Z",
     "shell.execute_reply": "2025-01-16T12:16:07.216032Z",
     "shell.execute_reply.started": "2025-01-16T12:16:07.162965Z"
    }
   },
   "outputs": [],
   "source": [
    "# Create the dataset\n",
    "data = {\n",
    "    'Date': date_range,\n",
    "    'Time of Day': date_range.time,\n",
    "    'Energy Consumption (kWh)': energy_consumption.round(2),\n",
    "    'Appliance Usage (kWh)': appliance_usage.round(2),\n",
    "    'Cost per kWh (RWF)': cost_per_kWh.round(2),\n",
    "    'Weather (Temp °C)': weather_temp.round(2),\n",
    "    'Season': season,\n",
    "    'Weekday/Weekend': weekday_weekend,\n",
    "    'Predicted Energy Cost (RWF)': predicted_energy_cost,\n",
    "    'Special Event': special_event\n",
    "}\n",
    "\n"
   ]
  },
  {
   "cell_type": "code",
   "execution_count": null,
   "metadata": {
    "execution": {
     "iopub.execute_input": "2025-01-16T12:16:07.218781Z",
     "iopub.status.busy": "2025-01-16T12:16:07.218331Z",
     "iopub.status.idle": "2025-01-16T12:16:07.267448Z",
     "shell.execute_reply": "2025-01-16T12:16:07.266322Z",
     "shell.execute_reply.started": "2025-01-16T12:16:07.218731Z"
    }
   },
   "outputs": [],
   "source": [
    "df = pd.DataFrame(data)\n"
   ]
  },
  {
   "cell_type": "code",
   "execution_count": null,
   "metadata": {
    "execution": {
     "iopub.execute_input": "2025-01-16T12:16:07.268887Z",
     "iopub.status.busy": "2025-01-16T12:16:07.268525Z",
     "iopub.status.idle": "2025-01-16T12:16:07.832809Z",
     "shell.execute_reply": "2025-01-16T12:16:07.831219Z",
     "shell.execute_reply.started": "2025-01-16T12:16:07.268858Z"
    }
   },
   "outputs": [],
   "source": [
    "\n",
    "# Save the dataset as a CSV file\n",
    "df.to_csv('/kaggle/working/energy_usage_prediction_rwanda.csv', index=False)\n",
    "\n",
    "print(\"Dataset saved as 'energy_usage_prediction_rwanda.csv' in the Kaggle working directory.\")\n"
   ]
  },
  {
   "cell_type": "code",
   "execution_count": null,
   "metadata": {
    "execution": {
     "iopub.execute_input": "2025-01-16T12:16:07.838063Z",
     "iopub.status.busy": "2025-01-16T12:16:07.837624Z",
     "iopub.status.idle": "2025-01-16T12:16:08.059190Z",
     "shell.execute_reply": "2025-01-16T12:16:08.058133Z",
     "shell.execute_reply.started": "2025-01-16T12:16:07.838018Z"
    }
   },
   "outputs": [],
   "source": [
    "import pandas as pd\n",
    "\n",
    "# Load the dataset\n",
    "file_path = '/kaggle/working/energy_usage_prediction_rwanda.csv'  # Assuming it's saved in the Kaggle working directory\n",
    "df = pd.read_csv(file_path)\n",
    "\n",
    "# Display the first few rows\n",
    "df.head(), df.info()\n"
   ]
  },
  {
   "cell_type": "code",
   "execution_count": null,
   "metadata": {
    "execution": {
     "iopub.execute_input": "2025-01-16T12:27:37.067412Z",
     "iopub.status.busy": "2025-01-16T12:27:37.066897Z",
     "iopub.status.idle": "2025-01-16T12:27:53.655187Z",
     "shell.execute_reply": "2025-01-16T12:27:53.654001Z",
     "shell.execute_reply.started": "2025-01-16T12:27:37.067363Z"
    }
   },
   "outputs": [],
   "source": [
    "import matplotlib.pyplot as plt\n",
    "import seaborn as sns\n",
    "\n",
    "# Set visualization style\n",
    "sns.set(style=\"whitegrid\")\n",
    "\n",
    "# Visualization 1: Energy consumption over time (sample of data for clarity)\n",
    "plt.figure(figsize=(12, 6))\n",
    "sample_data = df.sample(1000, random_state=42).sort_values(by='Date')  # Sample data for better visibility\n",
    "plt.plot(sample_data['Date'], sample_data['Energy Consumption (kWh)'], label='Energy Consumption (kWh)', alpha=0.8)\n",
    "plt.title(\"Energy Consumption Over Time (Sample Data)\", fontsize=16)\n",
    "plt.xlabel(\"Date\", fontsize=12)\n",
    "plt.ylabel(\"Energy Consumption (kWh)\", fontsize=12)\n",
    "plt.xticks(rotation=45)\n",
    "plt.legend()\n",
    "plt.tight_layout()\n",
    "plt.show()\n",
    "\n",
    "# Visualization 2: Average energy consumption by season\n",
    "plt.figure(figsize=(10, 6))\n",
    "sns.barplot(data=df, x='Season', y='Energy Consumption (kWh)', estimator=np.mean, palette='viridis')\n",
    "plt.title(\"Average Energy Consumption by Season\", fontsize=16)\n",
    "plt.xlabel(\"Season\", fontsize=12)\n",
    "plt.ylabel(\"Average Energy Consumption (kWh)\", fontsize=12)\n",
    "plt.xticks(rotation=45)\n",
    "plt.tight_layout()\n",
    "plt.show()\n",
    "\n",
    "# Visualization 3: Energy consumption distribution\n",
    "plt.figure(figsize=(10, 6))\n",
    "sns.histplot(df['Energy Consumption (kWh)'], kde=True, color='blue', bins=30)\n",
    "plt.title(\"Distribution of Energy Consumption\", fontsize=16)\n",
    "plt.xlabel(\"Energy Consumption (kWh)\", fontsize=12)\n",
    "plt.ylabel(\"Frequency\", fontsize=12)\n",
    "plt.tight_layout()\n",
    "plt.show()\n",
    "\n",
    "# Visualization 4: Heatmap for correlations between numerical features\n",
    "plt.figure(figsize=(12, 8))\n",
    "correlation_matrix = df[['Energy Consumption (kWh)', 'Appliance Usage (kWh)', 'Cost per kWh (RWF)', \n",
    "                         'Weather (Temp °C)', 'Predicted Energy Cost (RWF)']].corr()\n",
    "sns.heatmap(correlation_matrix, annot=True, cmap='coolwarm', fmt=\".2f\", square=True)\n",
    "plt.title(\"Correlation Matrix\", fontsize=16)\n",
    "plt.tight_layout()\n",
    "plt.show()\n",
    "\n"
   ]
  },
  {
   "cell_type": "code",
   "execution_count": null,
   "metadata": {
    "execution": {
     "iopub.execute_input": "2025-01-16T12:28:01.005436Z",
     "iopub.status.busy": "2025-01-16T12:28:01.005108Z",
     "iopub.status.idle": "2025-01-16T12:28:01.074801Z",
     "shell.execute_reply": "2025-01-16T12:28:01.073212Z",
     "shell.execute_reply.started": "2025-01-16T12:28:01.005412Z"
    }
   },
   "outputs": [],
   "source": [
    "# Step 1: Simulate Historical Customer Payment Data\n",
    "# Simulating monthly payment data for 100 customers from 2017 to 2024\n",
    "customers = [f\"Customer_{i}\" for i in range(1, 101)]  # 100 customers\n",
    "months = pd.date_range(start=\"2017-01-01\", end=\"2024-12-31\", freq=\"M\")\n",
    "customer_monthly_data = pd.DataFrame([(customer, month) for customer in customers for month in months], \n",
    "                                     columns=[\"Customer\", \"Month\"])\n",
    "\n",
    "# Generate historical payments with random fluctuations\n",
    "np.random.seed(42)\n",
    "customer_monthly_data[\"Payment (RWF)\"] = np.random.uniform(5000, 20000, len(customer_monthly_data))\n",
    "\n",
    "# Step 2: Add lagged payment features\n",
    "customer_monthly_data[\"Month\"] = pd.to_datetime(customer_monthly_data[\"Month\"])\n",
    "customer_monthly_data.sort_values(by=[\"Customer\", \"Month\"], inplace=True)\n",
    "customer_monthly_data[\"Previous Month Payment\"] = customer_monthly_data.groupby(\"Customer\")[\"Payment (RWF)\"].shift(1)\n",
    "customer_monthly_data[\"Two Months Ago Payment\"] = customer_monthly_data.groupby(\"Customer\")[\"Payment (RWF)\"].shift(2)\n",
    "\n",
    "# Drop rows with NaN values from lagged features\n",
    "customer_monthly_data.dropna(inplace=True)\n"
   ]
  },
  {
   "cell_type": "code",
   "execution_count": null,
   "metadata": {
    "execution": {
     "iopub.execute_input": "2025-01-16T12:28:06.025554Z",
     "iopub.status.busy": "2025-01-16T12:28:06.025181Z",
     "iopub.status.idle": "2025-01-16T12:28:06.073050Z",
     "shell.execute_reply": "2025-01-16T12:28:06.071971Z",
     "shell.execute_reply.started": "2025-01-16T12:28:06.025524Z"
    }
   },
   "outputs": [],
   "source": [
    "\n",
    "# Step 3: Train/Test Split\n",
    "# Use the last 6 months for testing for each customer\n",
    "train_data = customer_monthly_data.groupby(\"Customer\").apply(lambda x: x.iloc[:-6]).reset_index(drop=True)\n",
    "test_data = customer_monthly_data.groupby(\"Customer\").apply(lambda x: x.iloc[-6:]).reset_index(drop=True)\n",
    "\n",
    "# Features and Target\n",
    "X_train = train_data[[\"Previous Month Payment\", \"Two Months Ago Payment\"]]\n",
    "y_train = train_data[\"Payment (RWF)\"]\n",
    "X_test = test_data[[\"Previous Month Payment\", \"Two Months Ago Payment\"]]\n",
    "y_test = test_data[\"Payment (RWF)\"]\n",
    "\n"
   ]
  },
  {
   "cell_type": "code",
   "execution_count": null,
   "metadata": {
    "execution": {
     "iopub.execute_input": "2025-01-16T12:28:09.247126Z",
     "iopub.status.busy": "2025-01-16T12:28:09.246789Z",
     "iopub.status.idle": "2025-01-16T12:28:23.720539Z",
     "shell.execute_reply": "2025-01-16T12:28:23.719008Z",
     "shell.execute_reply.started": "2025-01-16T12:28:09.247101Z"
    }
   },
   "outputs": [],
   "source": [
    "# Re-importing necessary libraries\n",
    "from sklearn.ensemble import RandomForestRegressor\n",
    "from sklearn.metrics import mean_absolute_error, mean_squared_error, r2_score\n",
    "import numpy as np\n",
    "import pandas as pd\n",
    "\n",
    "# Step 4: Train a Model\n",
    "model = RandomForestRegressor(random_state=42)\n",
    "model.fit(X_train, y_train)\n",
    "\n",
    "# Step 5: Predict and Evaluate\n",
    "y_pred = model.predict(X_test)\n",
    "mae = mean_absolute_error(y_test, y_pred)\n",
    "mse = mean_squared_error(y_test, y_pred)\n",
    "r2 = r2_score(y_test, y_pred)\n",
    "\n",
    "# Predict next month's payment for a random customer# Step 1: Recreate Dataset (Simulating customer payment data)\n",
    "customers = [f\"Customer_{i}\" for i in range(1, 101)]\n",
    "months = pd.date_range(start=\"2017-01-01\", end=\"2024-12-31\", freq=\"M\")\n",
    "customer_monthly_data = pd.DataFrame([(customer, month) for customer in customers for month in months],\n",
    "                                     columns=[\"Customer\", \"Month\"])\n",
    "\n",
    "np.random.seed(42)\n",
    "customer_monthly_data[\"Payment (RWF)\"] = np.random.uniform(5000, 20000, len(customer_monthly_data))\n",
    "customer_monthly_data[\"Month\"] = pd.to_datetime(customer_monthly_data[\"Month\"])\n",
    "customer_monthly_data.sort_values(by=[\"Customer\", \"Month\"], inplace=True)\n",
    "customer_monthly_data[\"Previous Month Payment\"] = customer_monthly_data.groupby(\"Customer\")[\"Payment (RWF)\"].shift(1)\n",
    "customer_monthly_data[\"Two Months Ago Payment\"] = customer_monthly_data.groupby(\"Customer\")[\"Payment (RWF)\"].shift(2)\n",
    "customer_monthly_data.dropna(inplace=True)\n",
    "\n",
    "# Step 2: Train/Test Split\n",
    "train_data = customer_monthly_data.groupby(\"Customer\").apply(lambda x: x.iloc[:-6]).reset_index(drop=True)\n",
    "test_data = customer_monthly_data.groupby(\"Customer\").apply(lambda x: x.iloc[-6:]).reset_index(drop=True)\n",
    "X_train = train_data[[\"Previous Month Payment\", \"Two Months Ago Payment\"]]\n",
    "y_train = train_data[\"Payment (RWF)\"]\n",
    "X_test = test_data[[\"Previous Month Payment\", \"Two Months Ago Payment\"]]\n",
    "y_test = test_data[\"Payment (RWF)\"]\n",
    "\n",
    "# Step 3: Train the Model\n",
    "model = RandomForestRegressor(random_state=42)\n",
    "model.fit(X_train, y_train)\n",
    "\n",
    "# Step 4: Predictions\n",
    "y_pred = model.predict(X_test)\n",
    "\n",
    "# Step 5: Evaluate the Model\n",
    "mae = mean_absolute_error(y_test, y_pred)\n",
    "mse = mean_squared_error(y_test, y_pred)\n",
    "r2 = r2_score(y_test, y_pred)\n",
    "\n",
    "# Visualization 1: Predicted vs. Actual Values\n",
    "plt.figure(figsize=(10, 6))\n",
    "plt.scatter(y_test, y_pred, alpha=0.7, edgecolor='k')\n",
    "plt.plot([y_test.min(), y_test.max()], [y_test.min(), y_test.max()], color='red', linewidth=2)\n",
    "plt.title(\"Predicted vs. Actual Values\", fontsize=16)\n",
    "plt.xlabel(\"Actual Payments (RWF)\", fontsize=12)\n",
    "plt.ylabel(\"Predicted Payments (RWF)\", fontsize=12)\n",
    "plt.tight_layout()\n",
    "plt.show()\n",
    "\n",
    "# Visualization 2: Residual Distribution\n",
    "residuals = y_test - y_pred\n",
    "plt.figure(figsize=(10, 6))\n",
    "sns.histplot(residuals, kde=True, bins=30, color='blue')\n",
    "plt.title(\"Residual Distribution\", fontsize=16)\n",
    "plt.xlabel(\"Residuals (Actual - Predicted)\", fontsize=12)\n",
    "plt.ylabel(\"Frequency\", fontsize=12)\n",
    "plt.tight_layout()\n",
    "plt.show()\n",
    "\n",
    "# Visualization 3: Feature Importance\n",
    "feature_importances = model.feature_importances_\n",
    "features = X_train.columns\n",
    "plt.figure(figsize=(10, 6))\n",
    "sns.barplot(x=feature_importances, y=features, palette=\"viridis\")\n",
    "plt.title(\"Feature Importance\", fontsize=16)\n",
    "plt.xlabel(\"Importance Score\", fontsize=12)\n",
    "plt.ylabel(\"Features\", fontsize=12)\n",
    "plt.tight_layout()\n",
    "plt.show()\n",
    "\n",
    "mae, mse, r2\n",
    "\n",
    "random_customer = test_data[test_data[\"Customer\"] == \"Customer_10\"]\n",
    "random_customer_features = random_customer[[\"Previous Month Payment\", \"Two Months Ago Payment\"]].iloc[-1].values.reshape(1, -1)\n",
    "next_month_payment_prediction = model.predict(random_customer_features)[0]\n",
    "\n",
    "mae, mse, r2, next_month_payment_prediction\n",
    "# Step 1: Recreate Dataset (Simulating customer payment data)\n",
    "customers = [f\"Customer_{i}\" for i in range(1, 101)]\n",
    "months = pd.date_range(start=\"2017-01-01\", end=\"2024-12-31\", freq=\"M\")\n",
    "customer_monthly_data = pd.DataFrame([(customer, month) for customer in customers for month in months],\n",
    "                                     columns=[\"Customer\", \"Month\"])\n",
    "\n",
    "np.random.seed(42)\n",
    "customer_monthly_data[\"Payment (RWF)\"] = np.random.uniform(5000, 20000, len(customer_monthly_data))\n",
    "customer_monthly_data[\"Month\"] = pd.to_datetime(customer_monthly_data[\"Month\"])\n",
    "customer_monthly_data.sort_values(by=[\"Customer\", \"Month\"], inplace=True)\n",
    "customer_monthly_data[\"Previous Month Payment\"] = customer_monthly_data.groupby(\"Customer\")[\"Payment (RWF)\"].shift(1)\n",
    "customer_monthly_data[\"Two Months Ago Payment\"] = customer_monthly_data.groupby(\"Customer\")[\"Payment (RWF)\"].shift(2)\n",
    "customer_monthly_data.dropna(inplace=True)\n",
    "\n",
    "# Step 2: Train/Test Split\n",
    "train_data = customer_monthly_data.groupby(\"Customer\").apply(lambda x: x.iloc[:-6]).reset_index(drop=True)\n",
    "test_data = customer_monthly_data.groupby(\"Customer\").apply(lambda x: x.iloc[-6:]).reset_index(drop=True)\n",
    "X_train = train_data[[\"Previous Month Payment\", \"Two Months Ago Payment\"]]\n",
    "y_train = train_data[\"Payment (RWF)\"]\n",
    "X_test = test_data[[\"Previous Month Payment\", \"Two Months Ago Payment\"]]\n",
    "y_test = test_data[\"Payment (RWF)\"]\n",
    "\n",
    "# Step 3: Train the Model\n",
    "model = RandomForestRegressor(random_state=42)\n",
    "model.fit(X_train, y_train)\n",
    "\n",
    "# Step 4: Predictions\n",
    "y_pred = model.predict(X_test)\n",
    "\n",
    "# Step 5: Evaluate the Model\n",
    "mae = mean_absolute_error(y_test, y_pred)\n",
    "mse = mean_squared_error(y_test, y_pred)\n",
    "r2 = r2_score(y_test, y_pred)\n",
    "\n",
    "# Visualization 1: Predicted vs. Actual Values\n",
    "plt.figure(figsize=(10, 6))\n",
    "plt.scatter(y_test, y_pred, alpha=0.7, edgecolor='k')\n",
    "plt.plot([y_test.min(), y_test.max()], [y_test.min(), y_test.max()], color='red', linewidth=2)\n",
    "plt.title(\"Predicted vs. Actual Values\", fontsize=16)\n",
    "plt.xlabel(\"Actual Payments (RWF)\", fontsize=12)\n",
    "plt.ylabel(\"Predicted Payments (RWF)\", fontsize=12)\n",
    "plt.tight_layout()\n",
    "plt.show()\n",
    "\n",
    "# Visualization 2: Residual Distribution\n",
    "residuals = y_test - y_pred\n",
    "plt.figure(figsize=(10, 6))\n",
    "sns.histplot(residuals, kde=True, bins=30, color='blue')\n",
    "plt.title(\"Residual Distribution\", fontsize=16)\n",
    "plt.xlabel(\"Residuals (Actual - Predicted)\", fontsize=12)\n",
    "plt.ylabel(\"Frequency\", fontsize=12)\n",
    "plt.tight_layout()\n",
    "plt.show()\n",
    "\n",
    "# Visualization 3: Feature Importance\n",
    "feature_importances = model.feature_importances_\n",
    "features = X_train.columns\n",
    "plt.figure(figsize=(10, 6))\n",
    "sns.barplot(x=feature_importances, y=features, palette=\"viridis\")\n",
    "plt.title(\"Feature Importance\", fontsize=16)\n",
    "plt.xlabel(\"Importance Score\", fontsize=12)\n",
    "plt.ylabel(\"Features\", fontsize=12)\n",
    "plt.tight_layout()\n",
    "plt.show()\n",
    "\n",
    "mae, mse, r2\n"
   ]
  },
  {
   "cell_type": "code",
   "execution_count": null,
   "metadata": {
    "execution": {
     "iopub.execute_input": "2025-01-16T12:28:23.722423Z",
     "iopub.status.busy": "2025-01-16T12:28:23.722039Z",
     "iopub.status.idle": "2025-01-16T12:28:28.814240Z",
     "shell.execute_reply": "2025-01-16T12:28:28.812759Z",
     "shell.execute_reply.started": "2025-01-16T12:28:23.722380Z"
    }
   },
   "outputs": [],
   "source": [
    "# Step 1: Recreate Dataset (Simulating customer payment data)\n",
    "customers = [f\"Customer_{i}\" for i in range(1, 101)]\n",
    "months = pd.date_range(start=\"2017-01-01\", end=\"2024-12-31\", freq=\"M\")\n",
    "customer_monthly_data = pd.DataFrame([(customer, month) for customer in customers for month in months],\n",
    "                                     columns=[\"Customer\", \"Month\"])\n",
    "\n",
    "np.random.seed(42)\n",
    "customer_monthly_data[\"Payment (RWF)\"] = np.random.uniform(5000, 20000, len(customer_monthly_data))\n",
    "customer_monthly_data[\"Month\"] = pd.to_datetime(customer_monthly_data[\"Month\"])\n",
    "customer_monthly_data.sort_values(by=[\"Customer\", \"Month\"], inplace=True)\n",
    "customer_monthly_data[\"Previous Month Payment\"] = customer_monthly_data.groupby(\"Customer\")[\"Payment (RWF)\"].shift(1)\n",
    "customer_monthly_data[\"Two Months Ago Payment\"] = customer_monthly_data.groupby(\"Customer\")[\"Payment (RWF)\"].shift(2)\n",
    "customer_monthly_data.dropna(inplace=True)\n",
    "\n",
    "# Step 2: Train/Test Split\n",
    "train_data = customer_monthly_data.groupby(\"Customer\").apply(lambda x: x.iloc[:-6]).reset_index(drop=True)\n",
    "test_data = customer_monthly_data.groupby(\"Customer\").apply(lambda x: x.iloc[-6:]).reset_index(drop=True)\n",
    "X_train = train_data[[\"Previous Month Payment\", \"Two Months Ago Payment\"]]\n",
    "y_train = train_data[\"Payment (RWF)\"]\n",
    "X_test = test_data[[\"Previous Month Payment\", \"Two Months Ago Payment\"]]\n",
    "y_test = test_data[\"Payment (RWF)\"]\n",
    "\n",
    "# Step 3: Train the Model\n",
    "model = RandomForestRegressor(random_state=42)\n",
    "model.fit(X_train, y_train)\n",
    "\n",
    "# Step 4: Predictions\n",
    "y_pred = model.predict(X_test)\n",
    "\n",
    "# Step 5: Evaluate the Model\n",
    "mae = mean_absolute_error(y_test, y_pred)\n",
    "mse = mean_squared_error(y_test, y_pred)\n",
    "r2 = r2_score(y_test, y_pred)\n",
    "\n",
    "# Visualization 1: Predicted vs. Actual Values\n",
    "plt.figure(figsize=(10, 6))\n",
    "plt.scatter(y_test, y_pred, alpha=0.7, edgecolor='k')\n",
    "plt.plot([y_test.min(), y_test.max()], [y_test.min(), y_test.max()], color='red', linewidth=2)\n",
    "plt.title(\"Predicted vs. Actual Values\", fontsize=16)\n",
    "plt.xlabel(\"Actual Payments (RWF)\", fontsize=12)\n",
    "plt.ylabel(\"Predicted Payments (RWF)\", fontsize=12)\n",
    "plt.tight_layout()\n",
    "plt.show()\n",
    "\n",
    "# Visualization 2: Residual Distribution\n",
    "residuals = y_test - y_pred\n",
    "plt.figure(figsize=(10, 6))\n",
    "sns.histplot(residuals, kde=True, bins=30, color='blue')\n",
    "plt.title(\"Residual Distribution\", fontsize=16)\n",
    "plt.xlabel(\"Residuals (Actual - Predicted)\", fontsize=12)\n",
    "plt.ylabel(\"Frequency\", fontsize=12)\n",
    "plt.tight_layout()\n",
    "plt.show()\n",
    "\n",
    "# Visualization 3: Feature Importance\n",
    "feature_importances = model.feature_importances_\n",
    "features = X_train.columns\n",
    "plt.figure(figsize=(10, 6))\n",
    "sns.barplot(x=feature_importances, y=features, palette=\"viridis\")\n",
    "plt.title(\"Feature Importance\", fontsize=16)\n",
    "plt.xlabel(\"Importance Score\", fontsize=12)\n",
    "plt.ylabel(\"Features\", fontsize=12)\n",
    "plt.tight_layout()\n",
    "plt.show()\n",
    "\n",
    "mae, mse, r2\n"
   ]
  },
  {
   "cell_type": "code",
   "execution_count": null,
   "metadata": {
    "execution": {
     "iopub.execute_input": "2025-01-16T12:28:28.817178Z",
     "iopub.status.busy": "2025-01-16T12:28:28.816764Z",
     "iopub.status.idle": "2025-01-16T12:28:30.294305Z",
     "shell.execute_reply": "2025-01-16T12:28:30.293320Z",
     "shell.execute_reply.started": "2025-01-16T12:28:28.817139Z"
    }
   },
   "outputs": [],
   "source": [
    "# Re-importing visualization libraries\n",
    "import matplotlib.pyplot as plt\n",
    "import seaborn as sns\n",
    "\n",
    "# Visualization 1: Predicted vs. Actual Values\n",
    "plt.figure(figsize=(10, 6))\n",
    "plt.scatter(y_test, y_pred, alpha=0.7, edgecolor='k')\n",
    "plt.plot([y_test.min(), y_test.max()], [y_test.min(), y_test.max()], color='red', linewidth=2)\n",
    "plt.title(\"Predicted vs. Actual Values\", fontsize=16)\n",
    "plt.xlabel(\"Actual Payments (RWF)\", fontsize=12)\n",
    "plt.ylabel(\"Predicted Payments (RWF)\", fontsize=12)\n",
    "plt.tight_layout()\n",
    "plt.show()\n",
    "\n",
    "# Visualization 2: Residual Distribution\n",
    "residuals = y_test - y_pred\n",
    "plt.figure(figsize=(10, 6))\n",
    "sns.histplot(residuals, kde=True, bins=30, color='blue')\n",
    "plt.title(\"Residual Distribution\", fontsize=16)\n",
    "plt.xlabel(\"Residuals (Actual - Predicted)\", fontsize=12)\n",
    "plt.ylabel(\"Frequency\", fontsize=12)\n",
    "plt.tight_layout()\n",
    "plt.show()\n",
    "\n",
    "# Visualization 3: Feature Importance\n",
    "feature_importances = model.feature_importances_\n",
    "features = X_train.columns\n",
    "plt.figure(figsize=(10, 6))\n",
    "sns.barplot(x=feature_importances, y=features, palette='viridis')\n",
    "plt.title(\"Feature Importance\", fontsize=16)\n",
    "plt.xlabel(\"Importance Score\", fontsize=12)\n",
    "plt.ylabel(\"Features\", fontsize=12)\n",
    "plt.tight_layout()\n",
    "plt.show()\n",
    "\n",
    "# Display metrics\n",
    "mae, mse, r2\n"
   ]
  },
  {
   "cell_type": "code",
   "execution_count": null,
   "metadata": {
    "execution": {
     "iopub.execute_input": "2025-01-16T12:28:30.295647Z",
     "iopub.status.busy": "2025-01-16T12:28:30.295323Z",
     "iopub.status.idle": "2025-01-16T12:28:30.637010Z",
     "shell.execute_reply": "2025-01-16T12:28:30.635723Z",
     "shell.execute_reply.started": "2025-01-16T12:28:30.295607Z"
    }
   },
   "outputs": [],
   "source": [
    "# Step 1: Export the Model\n",
    "import joblib\n",
    "# Save the trained model to a file\n",
    "model_filename = \"customer_payment_model.pkl\"\n",
    "joblib.dump(model, model_filename)\n",
    "# Step 2: Load the Model\n",
    "loaded_model = joblib.load(model_filename)\n",
    "# Step 3: Prepare a Sample Customer's Data\n",
    "# Simulating new customer data with similar features\n",
    "sample_customer_data = pd.DataFrame({\n",
    "    \"Previous Month Payment\": [15000],  # Example value\n",
    "    \"Two Months Ago Payment\": [14000]  # Example value\n",
    "}\n",
    "\n",
    "                                   )\n",
    "# Step 4: Test the Model\n",
    "predicted_payment = loaded_model.predict(sample_customer_data)[0]\n",
    "predicted_payment"
   ]
  },
  {
   "cell_type": "code",
   "execution_count": null,
   "metadata": {
    "execution": {
     "iopub.execute_input": "2025-01-16T12:28:30.638437Z",
     "iopub.status.busy": "2025-01-16T12:28:30.638143Z",
     "iopub.status.idle": "2025-01-16T12:28:31.455483Z",
     "shell.execute_reply": "2025-01-16T12:28:31.454312Z",
     "shell.execute_reply.started": "2025-01-16T12:28:30.638409Z"
    }
   },
   "outputs": [],
   "source": [
    "# Adjusting Random Forest parameters to reduce model size\n",
    "# Reducing the number of trees and limiting tree depth\n",
    "optimized_model = RandomForestRegressor(\n",
    "    n_estimators=50,        # Fewer trees\n",
    "    max_depth=10,           # Limiting tree depth\n",
    "    random_state=42\n",
    ")\n",
    "optimized_model.fit(X_train, y_train)\n",
    "\n"
   ]
  },
  {
   "cell_type": "code",
   "execution_count": null,
   "metadata": {
    "execution": {
     "iopub.execute_input": "2025-01-16T12:28:34.257658Z",
     "iopub.status.busy": "2025-01-16T12:28:34.257288Z",
     "iopub.status.idle": "2025-01-16T12:28:34.289306Z",
     "shell.execute_reply": "2025-01-16T12:28:34.288066Z",
     "shell.execute_reply.started": "2025-01-16T12:28:34.257622Z"
    }
   },
   "outputs": [],
   "source": [
    "# Save the optimized model\n",
    "optimized_model_filename = \"optimized_customer_payment_model.pkl\"\n",
    "joblib.dump(optimized_model, optimized_model_filename)\n",
    "\n"
   ]
  },
  {
   "cell_type": "code",
   "execution_count": null,
   "metadata": {
    "execution": {
     "iopub.execute_input": "2025-01-16T12:28:38.637724Z",
     "iopub.status.busy": "2025-01-16T12:28:38.637248Z",
     "iopub.status.idle": "2025-01-16T12:28:38.652191Z",
     "shell.execute_reply": "2025-01-16T12:28:38.650821Z",
     "shell.execute_reply.started": "2025-01-16T12:28:38.637691Z"
    }
   },
   "outputs": [],
   "source": [
    "# Check the size of the optimized model file\n",
    "import os\n",
    "optimized_model_size = os.path.getsize(optimized_model_filename) / (1024 * 1024)  # Convert bytes to MB\n",
    "\n",
    "# Test the optimized model with the sample customer data\n",
    "optimized_predicted_payment = optimized_model.predict(sample_customer_data)[0]\n",
    "\n",
    "optimized_model_size, optimized_predicted_payment\n"
   ]
  },
  {
   "cell_type": "code",
   "execution_count": null,
   "metadata": {
    "execution": {
     "iopub.execute_input": "2025-01-16T12:33:49.928818Z",
     "iopub.status.busy": "2025-01-16T12:33:49.928350Z",
     "iopub.status.idle": "2025-01-16T12:33:49.965699Z",
     "shell.execute_reply": "2025-01-16T12:33:49.964424Z",
     "shell.execute_reply.started": "2025-01-16T12:33:49.928783Z"
    }
   },
   "outputs": [],
   "source": [
    "import pickle\n",
    "\n",
    "# Save the optimized model with pickle\n",
    "with open(\"optimized_customer_payment_model.pkl\", \"wb\") as f:\n",
    "    pickle.dump(optimized_model, f)\n",
    "\n",
    "# Load the model later for prediction\n",
    "with open(\"optimized_customer_payment_model.pkl\", \"rb\") as f:\n",
    "    loaded_model = pickle.load(f)\n",
    "\n",
    "# Make predictions\n",
    "predicted_payment = loaded_model.predict(sample_customer_data)[0]\n",
    "print(\"Predicted Payment:\", predicted_payment)\n"
   ]
  },
  {
   "cell_type": "code",
   "execution_count": null,
   "metadata": {
    "execution": {
     "iopub.status.busy": "2025-01-16T12:16:08.262451Z",
     "iopub.status.idle": "2025-01-16T12:16:08.262917Z",
     "shell.execute_reply": "2025-01-16T12:16:08.262726Z"
    }
   },
   "outputs": [],
   "source": [
    "pip install onnxruntime\n"
   ]
  },
  {
   "cell_type": "code",
   "execution_count": null,
   "metadata": {
    "execution": {
     "iopub.status.busy": "2025-01-16T12:16:08.264438Z",
     "iopub.status.idle": "2025-01-16T12:16:08.264886Z",
     "shell.execute_reply": "2025-01-16T12:16:08.264661Z"
    }
   },
   "outputs": [],
   "source": [
    "##Step 2: Export the Model to ONNX\n",
    "#Use the sklearn-onnx library to export your model.##"
   ]
  },
  {
   "cell_type": "code",
   "execution_count": null,
   "metadata": {
    "execution": {
     "iopub.execute_input": "2025-01-16T12:28:56.203047Z",
     "iopub.status.busy": "2025-01-16T12:28:56.202664Z",
     "iopub.status.idle": "2025-01-16T12:32:18.503251Z",
     "shell.execute_reply": "2025-01-16T12:32:18.501878Z",
     "shell.execute_reply.started": "2025-01-16T12:28:56.203019Z"
    }
   },
   "outputs": [],
   "source": [
    "pip install skl2onnx\n"
   ]
  },
  {
   "cell_type": "code",
   "execution_count": null,
   "metadata": {
    "execution": {
     "iopub.status.busy": "2025-01-16T12:16:08.267766Z",
     "iopub.status.idle": "2025-01-16T12:16:08.268513Z",
     "shell.execute_reply": "2025-01-16T12:16:08.268036Z"
    }
   },
   "outputs": [],
   "source": [
    "pip install onnxruntime\n"
   ]
  },
  {
   "cell_type": "code",
   "execution_count": null,
   "metadata": {
    "execution": {
     "iopub.execute_input": "2025-01-16T12:33:08.458931Z",
     "iopub.status.busy": "2025-01-16T12:33:08.458534Z",
     "iopub.status.idle": "2025-01-16T12:33:09.540945Z",
     "shell.execute_reply": "2025-01-16T12:33:09.539595Z",
     "shell.execute_reply.started": "2025-01-16T12:33:08.458902Z"
    }
   },
   "outputs": [],
   "source": [
    "pip install skl2onnx-*.whl\n"
   ]
  },
  {
   "cell_type": "code",
   "execution_count": null,
   "metadata": {
    "execution": {
     "iopub.execute_input": "2025-01-16T12:28:46.905984Z",
     "iopub.status.busy": "2025-01-16T12:28:46.905399Z",
     "iopub.status.idle": "2025-01-16T12:28:46.990832Z",
     "shell.execute_reply": "2025-01-16T12:28:46.988666Z",
     "shell.execute_reply.started": "2025-01-16T12:28:46.905951Z"
    }
   },
   "outputs": [],
   "source": [
    "from skl2onnx import convert_sklearn\n",
    "from skl2onnx.common.data_types import FloatTensorType\n",
    "import joblib\n",
    "\n",
    "# Load the optimized model\n",
    "optimized_model = joblib.load(\"optimized_customer_payment_model.pkl\")\n",
    "\n",
    "# Convert the model to ONNX format\n",
    "initial_type = [(\"float_input\", FloatTensorType([None, 2]))]  # 2 features in input\n",
    "onnx_model = convert_sklearn(optimized_model, initial_types=initial_type)\n",
    "\n",
    "# Save ONNX model\n",
    "with open(\"optimized_customer_payment_model.onnx\", \"wb\") as f:\n",
    "    f.write(onnx_model.SerializeToString())\n"
   ]
  },
  {
   "cell_type": "markdown",
   "metadata": {},
   "source": []
  },
  {
   "cell_type": "code",
   "execution_count": null,
   "metadata": {
    "execution": {
     "iopub.status.busy": "2025-01-16T12:16:08.271985Z",
     "iopub.status.idle": "2025-01-16T12:16:08.272644Z",
     "shell.execute_reply": "2025-01-16T12:16:08.272323Z"
    }
   },
   "outputs": [],
   "source": [
    "\n",
    "pip install skl2onnx\n",
    "\n"
   ]
  }
 ],
 "metadata": {
  "kaggle": {
   "accelerator": "none",
   "dataSources": [],
   "dockerImageVersionId": 30822,
   "isGpuEnabled": false,
   "isInternetEnabled": false,
   "language": "python",
   "sourceType": "notebook"
  },
  "kernelspec": {
   "display_name": "Python 3",
   "language": "python",
   "name": "python3"
  },
  "language_info": {
   "codemirror_mode": {
    "name": "ipython",
    "version": 3
   },
   "file_extension": ".py",
   "mimetype": "text/x-python",
   "name": "python",
   "nbconvert_exporter": "python",
   "pygments_lexer": "ipython3",
   "version": "3.11.2"
  }
 },
 "nbformat": 4,
 "nbformat_minor": 4
}
